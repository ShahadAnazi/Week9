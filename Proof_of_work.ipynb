{
  "nbformat": 4,
  "nbformat_minor": 0,
  "metadata": {
    "colab": {
      "name": "Proof of work.ipynb",
      "provenance": [],
      "authorship_tag": "ABX9TyNSNsGLeR7H/lwxeq/NnEMa",
      "include_colab_link": true
    },
    "kernelspec": {
      "name": "python3",
      "display_name": "Python 3"
    },
    "language_info": {
      "name": "python"
    }
  },
  "cells": [
    {
      "cell_type": "markdown",
      "metadata": {
        "id": "view-in-github",
        "colab_type": "text"
      },
      "source": [
        "<a href=\"https://colab.research.google.com/github/ShahadAnazi/Week9/blob/main/Proof_of_work.ipynb\" target=\"_parent\"><img src=\"https://colab.research.google.com/assets/colab-badge.svg\" alt=\"Open In Colab\"/></a>"
      ]
    },
    {
      "cell_type": "code",
      "execution_count": 1,
      "metadata": {
        "id": "jQPnPcBn1xAj"
      },
      "outputs": [],
      "source": [
        "import hashlib \n",
        "import datetime "
      ]
    },
    {
      "cell_type": "code",
      "source": [
        "def mining(num_of_zero,nonce,zeros):\n",
        "    t1 = datetime.datetime.now()\n",
        "\n",
        "    nonce = 1\n",
        "\n",
        "\n",
        "\n",
        "    solution = False\n",
        "\n",
        "    while solution == False: # loop until true\n",
        "        ourhash = hashlib.sha256(str(nonce).encode()).hexdigest() # inputs nonce into hash function\n",
        "        if ourhash[:num_of_zero] == zeros: # look for hash with 7 proceeding zeros\n",
        "            solution =True \n",
        "        nonce +=1 \n",
        "\n",
        "    t2 = datetime.datetime.now() # end time \n",
        "    duration = t2 - t1 # time elapsed\n",
        "    print (\"The hash is:\",ourhash)\n",
        "    print (\"The nonce is:\",nonce)    \n",
        "    print (\"Time elapsed:\",duration)"
      ],
      "metadata": {
        "id": "pjayaPwC18Bt"
      },
      "execution_count": 3,
      "outputs": []
    },
    {
      "cell_type": "code",
      "source": [
        "mining(7,1,'0000000')"
      ],
      "metadata": {
        "colab": {
          "base_uri": "https://localhost:8080/"
        },
        "id": "VHetDQf32E-Y",
        "outputId": "a9211a4f-ec2e-4631-a075-da3665e9a4c2"
      },
      "execution_count": 4,
      "outputs": [
        {
          "output_type": "stream",
          "name": "stdout",
          "text": [
            "The hash is: 0000000399c6aea5ad0c709a9bc331a3ed6494702bd1d129d8c817a0257a1462\n",
            "The nonce is: 665783\n",
            "Time elapsed: 0:00:00.944227\n"
          ]
        }
      ]
    },
    {
      "cell_type": "code",
      "source": [
        "mining(8,1,'00000000')"
      ],
      "metadata": {
        "colab": {
          "base_uri": "https://localhost:8080/"
        },
        "id": "va_Ctj9X2K_8",
        "outputId": "b19f6fc7-eebd-4a28-a57e-6d56ac91b35b"
      },
      "execution_count": 5,
      "outputs": [
        {
          "output_type": "stream",
          "name": "stdout",
          "text": [
            "The hash is: 00000000690ed426ccf17803ebe2bd0884bcd58a1bb5e7477ead3645f356e7a9\n",
            "The nonce is: 426479725\n",
            "Time elapsed: 0:09:31.825544\n"
          ]
        }
      ]
    }
  ]
}