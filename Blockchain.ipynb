{
  "nbformat": 4,
  "nbformat_minor": 0,
  "metadata": {
    "colab": {
      "name": "Blockchain.ipynb",
      "provenance": [],
      "authorship_tag": "ABX9TyNvDOrQa/46e/Z9MyladiUl",
      "include_colab_link": true
    },
    "kernelspec": {
      "name": "python3",
      "display_name": "Python 3"
    },
    "language_info": {
      "name": "python"
    }
  },
  "cells": [
    {
      "cell_type": "markdown",
      "metadata": {
        "id": "view-in-github",
        "colab_type": "text"
      },
      "source": [
        "<a href=\"https://colab.research.google.com/github/ShahadAnazi/Week9/blob/main/Blockchain.ipynb\" target=\"_parent\"><img src=\"https://colab.research.google.com/assets/colab-badge.svg\" alt=\"Open In Colab\"/></a>"
      ]
    },
    {
      "cell_type": "code",
      "execution_count": 57,
      "metadata": {
        "colab": {
          "base_uri": "https://localhost:8080/"
        },
        "id": "pAa7ISpGIhwn",
        "outputId": "8e585116-4d70-45da-ce36-89f540014ec4"
      },
      "outputs": [
        {
          "output_type": "stream",
          "name": "stdout",
          "text": [
            "Requirement already satisfied: jason in /usr/local/lib/python3.7/dist-packages (0.1.7)\n"
          ]
        }
      ],
      "source": [
        "!pip install jason"
      ]
    },
    {
      "cell_type": "code",
      "source": [
        "from hashlib import sha256\n",
        "import time \n",
        "import json"
      ],
      "metadata": {
        "id": "0mkbsqNzIsfA"
      },
      "execution_count": 58,
      "outputs": []
    },
    {
      "cell_type": "code",
      "source": [
        "class MyBlock():\n",
        "    def __init__(self,\n",
        "                index = 0,\n",
        "                transactions:list = [],\n",
        "                timestamp:int = 0,\n",
        "                prop_hash:str = \"\",\n",
        "                prev_hash:str = \"\",\n",
        "                nonce:int = 0):\n",
        "        self.index:int = index\n",
        "        self.transactions:list = transactions\n",
        "        self.timestamp:int = timestamp\n",
        "        self.prop_hash:str = prop_hash\n",
        "        self.prev_hash:str = prev_hash\n",
        "        self.nonce:int = nonce\n",
        "            \n",
        "            \n",
        "    def compute_hash(self):\n",
        "        block_string = json.dumps(self.__dict__, sort_keys=True)\n",
        "        return sha256(block_string.encode()).hexdigest()"
      ],
      "metadata": {
        "id": "vzwY-BKiIx9M"
      },
      "execution_count": 59,
      "outputs": []
    },
    {
      "cell_type": "code",
      "source": [
        "time.asctime()"
      ],
      "metadata": {
        "colab": {
          "base_uri": "https://localhost:8080/",
          "height": 35
        },
        "id": "FofG-P3yI_V1",
        "outputId": "b3ef0787-1351-49f2-c1d1-1df0034382e8"
      },
      "execution_count": 44,
      "outputs": [
        {
          "output_type": "execute_result",
          "data": {
            "application/vnd.google.colaboratory.intrinsic+json": {
              "type": "string"
            },
            "text/plain": [
              "'Sun Dec 12 05:47:06 2021'"
            ]
          },
          "metadata": {},
          "execution_count": 44
        }
      ]
    },
    {
      "cell_type": "code",
      "source": [
        "class Blockchain(): \n",
        "    def __init__(self):\n",
        "        self.unconfirmed_transactions:list[dict] = []\n",
        "        self.chain:list[Block] = []\n",
        "        self.difficulty:int=2\n",
        "        self.create_genesis_block()\n",
        "        \n",
        "    def get_last_block(self):\n",
        "        return self.chain[-1]\n",
        " \n",
        "    def create_genesis_block(self):\n",
        "        genesis_block = MyBlock(index=0,\n",
        "                                transactions=[],\n",
        "                                timestamp=time.asctime(),\n",
        "                                prev_hash=\"\",\n",
        "                                prop_hash=\"\", nonce=0)\n",
        "        genesis_block.prop_hash = genesis_block.compute_hash()\n",
        "        self.chain.append(genesis_block)\n",
        "    \n",
        "    def proof_of_work(self, block):\n",
        "        \n",
        "        computed_hash = block.compute_hash()\n",
        "        while not computed_hash.startswith('0' * self.difficulty):\n",
        "            block.nonce += 1\n",
        "            computed_hash = block.compute_hash()\n",
        "        return computed_hash\n",
        "    \n",
        "    def is_valid_proof(self, block, block_hash):\n",
        "        return (block_hash.startswith('0' * self.difficulty) and\n",
        "                block_hash == block.compute_hash())\n",
        "    \n",
        "    def add_block(self, block:MyBlock, block_hash:str) -> bool:\n",
        "        last_block = self.get_last_block()\n",
        "        \n",
        "        if last_block.prop_hash != block.prev_hash:\n",
        "            return False\n",
        "        \n",
        "        if not self.is_valid_proof(block, block_hash):\n",
        "            return False\n",
        "        \n",
        "        block.prop_hash = block_hash\n",
        "        \n",
        "        self.chain.append(block)\n",
        "        \n",
        "        return True\n",
        "    \n",
        "    def add_new_transaction(self, transaction:dict) -> None:\n",
        "            self.unconfirmed_transactions.append(transaction)\n",
        "            \n",
        "    def mine(self) -> int:\n",
        "        if len(self.unconfirmed_transactions)<1:\n",
        "            return -1\n",
        "        \n",
        "        last_block = self.get_last_block()\n",
        " \n",
        "        new_block = MyBlock(index=last_block.index+1,\n",
        "                          transactions=self.unconfirmed_transactions,\n",
        "                          timestamp=(time.asctime()),\n",
        "                          prev_hash=last_block.prop_hash)\n",
        "    \n",
        "        prop_hash = self.proof_of_work(new_block)\n",
        "        if not self.add_block(new_block, prop_hash):\n",
        "            return -1\n",
        "        self.add_block(new_block, prop_hash)\n",
        "         #new_block.hash = prop_hash\n",
        "        self.unconfirmed_transactions = []\n",
        "        \n",
        "        \n",
        "        return new_block.index"
      ],
      "metadata": {
        "id": "pLtE8To5JFrF"
      },
      "execution_count": 60,
      "outputs": []
    },
    {
      "cell_type": "code",
      "source": [
        "mb = MyBlock()\n",
        "mb.__dict__ # what the block contains  "
      ],
      "metadata": {
        "colab": {
          "base_uri": "https://localhost:8080/"
        },
        "id": "3Iv7F4n_Jgoc",
        "outputId": "dfb31633-4fdd-4203-b380-6e5de5627cb1"
      },
      "execution_count": 61,
      "outputs": [
        {
          "output_type": "execute_result",
          "data": {
            "text/plain": [
              "{'index': 0,\n",
              " 'nonce': 0,\n",
              " 'prev_hash': '',\n",
              " 'prop_hash': '',\n",
              " 'timestamp': 0,\n",
              " 'transactions': []}"
            ]
          },
          "metadata": {},
          "execution_count": 61
        }
      ]
    },
    {
      "cell_type": "code",
      "source": [
        "mb.compute_hash()"
      ],
      "metadata": {
        "colab": {
          "base_uri": "https://localhost:8080/",
          "height": 35
        },
        "id": "hWLxMGuUJjrb",
        "outputId": "643d6a27-6b5b-4f9d-c3f7-5696acce74fe"
      },
      "execution_count": 47,
      "outputs": [
        {
          "output_type": "execute_result",
          "data": {
            "application/vnd.google.colaboratory.intrinsic+json": {
              "type": "string"
            },
            "text/plain": [
              "'16102a9b51bec6785fe8cb8fc35d2209e8d7dd7b873ef8cadea142f4020a8f19'"
            ]
          },
          "metadata": {},
          "execution_count": 47
        }
      ]
    },
    {
      "cell_type": "code",
      "source": [
        "mb.prop_hash=mb.compute_hash()\n",
        "mb"
      ],
      "metadata": {
        "colab": {
          "base_uri": "https://localhost:8080/"
        },
        "id": "ID5d7V7IJmbj",
        "outputId": "82d8cfb9-3f89-47ad-8ba1-99299ad99d3f"
      },
      "execution_count": 62,
      "outputs": [
        {
          "output_type": "execute_result",
          "data": {
            "text/plain": [
              "<__main__.MyBlock at 0x7f5ac3459f10>"
            ]
          },
          "metadata": {},
          "execution_count": 62
        }
      ]
    },
    {
      "cell_type": "code",
      "source": [
        "mb.compute_hash()"
      ],
      "metadata": {
        "colab": {
          "base_uri": "https://localhost:8080/",
          "height": 35
        },
        "id": "CHGD_5ygJq3H",
        "outputId": "ca472fe6-eff2-446e-97a8-ee5be4ff13d2"
      },
      "execution_count": 49,
      "outputs": [
        {
          "output_type": "execute_result",
          "data": {
            "application/vnd.google.colaboratory.intrinsic+json": {
              "type": "string"
            },
            "text/plain": [
              "'3798682d03b9e04cea5c5e7fed2651893a51cdf0fd44bbdbd448f87381d23565'"
            ]
          },
          "metadata": {},
          "execution_count": 49
        }
      ]
    },
    {
      "cell_type": "code",
      "source": [
        "mb.compute_hash()"
      ],
      "metadata": {
        "colab": {
          "base_uri": "https://localhost:8080/",
          "height": 35
        },
        "id": "aS7hGu-OJvqg",
        "outputId": "09df94cd-2b4e-4f5d-f470-b39bcd2fdd91"
      },
      "execution_count": 50,
      "outputs": [
        {
          "output_type": "execute_result",
          "data": {
            "application/vnd.google.colaboratory.intrinsic+json": {
              "type": "string"
            },
            "text/plain": [
              "'3798682d03b9e04cea5c5e7fed2651893a51cdf0fd44bbdbd448f87381d23565'"
            ]
          },
          "metadata": {},
          "execution_count": 50
        }
      ]
    },
    {
      "cell_type": "code",
      "source": [
        "mb.compute_hash().startswith('0'*2)"
      ],
      "metadata": {
        "colab": {
          "base_uri": "https://localhost:8080/"
        },
        "id": "ZQZhi7-kJx0I",
        "outputId": "655ccb1a-cfd5-4f88-e262-c3909bcd96c0"
      },
      "execution_count": 51,
      "outputs": [
        {
          "output_type": "execute_result",
          "data": {
            "text/plain": [
              "False"
            ]
          },
          "metadata": {},
          "execution_count": 51
        }
      ]
    },
    {
      "cell_type": "code",
      "source": [
        "bc = Blockchain()\n",
        "bc.add_new_transaction({'Name': \"Shahad \",'Major':\"MIS\"})\n",
        "#x.compute_hash # calling the method of hash returning the hex digest of the block_string "
      ],
      "metadata": {
        "id": "DlX-M9ueJ1VY"
      },
      "execution_count": 52,
      "outputs": []
    },
    {
      "cell_type": "code",
      "source": [
        "bc.__dict__"
      ],
      "metadata": {
        "colab": {
          "base_uri": "https://localhost:8080/"
        },
        "id": "HFNNOfTEKzXG",
        "outputId": "c96f4dac-8398-4d1c-9836-c4821e8e813a"
      },
      "execution_count": 53,
      "outputs": [
        {
          "output_type": "execute_result",
          "data": {
            "text/plain": [
              "{'chain': [<__main__.MyBlock at 0x7f5ac34aa410>],\n",
              " 'difficulty': 2,\n",
              " 'unconfirmed_transactions': [{'Major': 'MIS', 'Name': 'Shahad '}]}"
            ]
          },
          "metadata": {},
          "execution_count": 53
        }
      ]
    },
    {
      "cell_type": "code",
      "source": [
        "bc.unconfirmed_transactions"
      ],
      "metadata": {
        "colab": {
          "base_uri": "https://localhost:8080/"
        },
        "id": "N22wyazwK1yI",
        "outputId": "50fd7c33-b23e-4143-ef0f-627e0009c9ba"
      },
      "execution_count": 54,
      "outputs": [
        {
          "output_type": "execute_result",
          "data": {
            "text/plain": [
              "[{'Major': 'MIS', 'Name': 'Shahad '}]"
            ]
          },
          "metadata": {},
          "execution_count": 54
        }
      ]
    },
    {
      "cell_type": "code",
      "source": [
        "bc.chain[0].__dict__"
      ],
      "metadata": {
        "colab": {
          "base_uri": "https://localhost:8080/"
        },
        "id": "R4AFXy5vK5n_",
        "outputId": "ae4b4c96-4719-4af6-94eb-9f56634068fd"
      },
      "execution_count": 55,
      "outputs": [
        {
          "output_type": "execute_result",
          "data": {
            "text/plain": [
              "{'index': 0,\n",
              " 'nonce': 0,\n",
              " 'prev_hash': '',\n",
              " 'prop_hash': 'ad19e35b9066247f41193422467a34f3d31e404b526b62a5330350989e869d52',\n",
              " 'timestamp': 'Sun Dec 12 05:47:06 2021',\n",
              " 'transactions': []}"
            ]
          },
          "metadata": {},
          "execution_count": 55
        }
      ]
    },
    {
      "cell_type": "code",
      "source": [
        "bc.mine()"
      ],
      "metadata": {
        "colab": {
          "base_uri": "https://localhost:8080/"
        },
        "id": "nriq4XrGK8Uw",
        "outputId": "33467ecf-45b6-4b37-90e6-0ca93ad68990"
      },
      "execution_count": 56,
      "outputs": [
        {
          "output_type": "execute_result",
          "data": {
            "text/plain": [
              "1"
            ]
          },
          "metadata": {},
          "execution_count": 56
        }
      ]
    },
    {
      "cell_type": "code",
      "source": [
        "bc.add_new_transaction({\"addr_from\":\"ad19e35b9066247f41193422467a34f3d31e404b526b62a5330350989e869d52\",\n",
        "                       \"addr_to\": \"140e1a639663cc35cc991efd53e9b32b3b705bee3479b1036b921d986d5cf01b\",\n",
        "                       \"amount\": 99.00})"
      ],
      "metadata": {
        "id": "RMBF3ICJLpML"
      },
      "execution_count": 63,
      "outputs": []
    },
    {
      "cell_type": "code",
      "source": [
        "bc.__dict__"
      ],
      "metadata": {
        "colab": {
          "base_uri": "https://localhost:8080/"
        },
        "id": "e2xFFDsGL8y3",
        "outputId": "afdc3caa-7178-4bf0-f0ec-e97f8d1448ff"
      },
      "execution_count": 64,
      "outputs": [
        {
          "output_type": "execute_result",
          "data": {
            "text/plain": [
              "{'chain': [<__main__.MyBlock at 0x7f5ac34aa410>,\n",
              "  <__main__.MyBlock at 0x7f5ac345c2d0>],\n",
              " 'difficulty': 2,\n",
              " 'unconfirmed_transactions': [{'addr_from': 'ad19e35b9066247f41193422467a34f3d31e404b526b62a5330350989e869d52',\n",
              "   'addr_to': '140e1a639663cc35cc991efd53e9b32b3b705bee3479b1036b921d986d5cf01b',\n",
              "   'amount': 99.0}]}"
            ]
          },
          "metadata": {},
          "execution_count": 64
        }
      ]
    },
    {
      "cell_type": "code",
      "source": [
        "bc.unconfirmed_transactions"
      ],
      "metadata": {
        "colab": {
          "base_uri": "https://localhost:8080/"
        },
        "id": "wcrq6acuL_CO",
        "outputId": "3a49d3a1-7349-40ba-9b5f-f96f7bd90390"
      },
      "execution_count": 65,
      "outputs": [
        {
          "output_type": "execute_result",
          "data": {
            "text/plain": [
              "[{'addr_from': 'ad19e35b9066247f41193422467a34f3d31e404b526b62a5330350989e869d52',\n",
              "  'addr_to': '140e1a639663cc35cc991efd53e9b32b3b705bee3479b1036b921d986d5cf01b',\n",
              "  'amount': 99.0}]"
            ]
          },
          "metadata": {},
          "execution_count": 65
        }
      ]
    },
    {
      "cell_type": "code",
      "source": [
        "bc.chain[1].__dict__"
      ],
      "metadata": {
        "colab": {
          "base_uri": "https://localhost:8080/"
        },
        "id": "E4XKLpiSMCvH",
        "outputId": "de778367-79e9-4dde-e2ff-b36b78092065"
      },
      "execution_count": 66,
      "outputs": [
        {
          "output_type": "execute_result",
          "data": {
            "text/plain": [
              "{'index': 1,\n",
              " 'nonce': 572,\n",
              " 'prev_hash': 'ad19e35b9066247f41193422467a34f3d31e404b526b62a5330350989e869d52',\n",
              " 'prop_hash': '00f5fa14dd766b53f0a008b122d2825e4b1af4397d37bcb7c74309d5da5e21e0',\n",
              " 'timestamp': 'Sun Dec 12 05:47:06 2021',\n",
              " 'transactions': [{'Major': 'MIS', 'Name': 'Shahad '}]}"
            ]
          },
          "metadata": {},
          "execution_count": 66
        }
      ]
    },
    {
      "cell_type": "code",
      "source": [
        "bc.mine()"
      ],
      "metadata": {
        "colab": {
          "base_uri": "https://localhost:8080/"
        },
        "id": "ziX5cR9-MGUx",
        "outputId": "56c08185-541b-4ee5-8d8d-ad05cbe2d5d8"
      },
      "execution_count": 67,
      "outputs": [
        {
          "output_type": "execute_result",
          "data": {
            "text/plain": [
              "2"
            ]
          },
          "metadata": {},
          "execution_count": 67
        }
      ]
    },
    {
      "cell_type": "code",
      "source": [
        "bc.get_last_block()"
      ],
      "metadata": {
        "colab": {
          "base_uri": "https://localhost:8080/"
        },
        "id": "ynKIIjbpMIV2",
        "outputId": "0fff7c3a-ffd8-4b7f-9ec4-7224639d01ce"
      },
      "execution_count": 68,
      "outputs": [
        {
          "output_type": "execute_result",
          "data": {
            "text/plain": [
              "<__main__.MyBlock at 0x7f5ac3459f90>"
            ]
          },
          "metadata": {},
          "execution_count": 68
        }
      ]
    }
  ]
}